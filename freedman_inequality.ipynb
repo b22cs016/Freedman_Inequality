{
  "metadata": {
    "kernelspec": {
      "name": "python",
      "display_name": "Python (Pyodide)",
      "language": "python"
    },
    "language_info": {
      "codemirror_mode": {
        "name": "python",
        "version": 3
      },
      "file_extension": ".py",
      "mimetype": "text/x-python",
      "name": "python",
      "nbconvert_exporter": "python",
      "pygments_lexer": "ipython3",
      "version": "3.8"
    },
    "widgets": {
      "application/vnd.jupyter.widget-state+json": {
        "state": {
          "01ddcf76a8d542ad94ffa37098a15191": {
            "model_module": "@jupyter-widgets/base",
            "model_module_version": "2.0.0",
            "model_name": "LayoutModel",
            "state": {
              "margin": "0px 0px 0px 37px",
              "width": "600px"
            }
          },
          "05e841e27c14401b87590ab0450bc349": {
            "model_module": "@jupyter-widgets/controls",
            "model_module_version": "2.0.0",
            "model_name": "HTMLStyleModel",
            "state": {
              "description_width": "",
              "font_size": null,
              "text_color": null
            }
          },
          "15988b1cf6ef416da65cdb256d146443": {
            "model_module": "@jupyter-widgets/base",
            "model_module_version": "2.0.0",
            "model_name": "LayoutModel",
            "state": {
              "width": "95px"
            }
          },
          "18f5c5ae0d9e4cc8b79fc8372d09c53e": {
            "model_module": "@jupyter-widgets/controls",
            "model_module_version": "2.0.0",
            "model_name": "HTMLModel",
            "state": {
              "layout": "IPY_MODEL_15988b1cf6ef416da65cdb256d146443",
              "style": "IPY_MODEL_a62b90729b074c64bcd634023ad72daf",
              "value": "<h5>Status</h5>"
            }
          },
          "23ba9153380348e99dad3a26ffbfc256": {
            "model_module": "@jupyter-widgets/base",
            "model_module_version": "2.0.0",
            "model_name": "LayoutModel",
            "state": {
              "width": "145px"
            }
          },
          "2c4eed6cb72f477193a0718a4764a87e": {
            "model_module": "@jupyter-widgets/controls",
            "model_module_version": "2.0.0",
            "model_name": "HTMLModel",
            "state": {
              "layout": "IPY_MODEL_c32ddb7d46c34d6c820239f917b1f109",
              "style": "IPY_MODEL_482727bcdfbe48219a1264042747ceed",
              "value": "<h5>Queue</h5>"
            }
          },
          "2cb74ebc28f54ada93290a2a4a8265ee": {
            "model_module": "@jupyter-widgets/base",
            "model_module_version": "2.0.0",
            "model_name": "LayoutModel",
            "state": {
              "grid_area": "right",
              "padding": "0px 0px 0px 0px",
              "width": "70px"
            }
          },
          "2ce68717f7e141b199bb8a51287fef0a": {
            "model_module": "@jupyter-widgets/base",
            "model_module_version": "2.0.0",
            "model_name": "LayoutModel",
            "state": {
              "margin": "0px 0px 10px 0px"
            }
          },
          "429816fbb2c44020b663fa71ea3e1a93": {
            "model_module": "@jupyter-widgets/controls",
            "model_module_version": "2.0.0",
            "model_name": "HTMLModel",
            "state": {
              "layout": "IPY_MODEL_cbb7390e94aa4030be970cb4e4ec3a95",
              "style": "IPY_MODEL_5eec91f718c4476585fd2b63c4b308b4",
              "value": "<h5>Message</h5>"
            }
          },
          "482727bcdfbe48219a1264042747ceed": {
            "model_module": "@jupyter-widgets/controls",
            "model_module_version": "2.0.0",
            "model_name": "HTMLStyleModel",
            "state": {
              "description_width": "",
              "font_size": null,
              "text_color": null
            }
          },
          "5427495f7ddc482f86d4c195967a6248": {
            "model_module": "@jupyter-widgets/controls",
            "model_module_version": "2.0.0",
            "model_name": "HBoxModel",
            "state": {
              "children": [
                "IPY_MODEL_8da53f6004344cba9c1d67e31eb1de4f",
                "IPY_MODEL_6ca60d11c6e242b380d13046cb3ae8de",
                "IPY_MODEL_18f5c5ae0d9e4cc8b79fc8372d09c53e",
                "IPY_MODEL_2c4eed6cb72f477193a0718a4764a87e",
                "IPY_MODEL_429816fbb2c44020b663fa71ea3e1a93"
              ],
              "layout": "IPY_MODEL_01ddcf76a8d542ad94ffa37098a15191"
            }
          },
          "5eec91f718c4476585fd2b63c4b308b4": {
            "model_module": "@jupyter-widgets/controls",
            "model_module_version": "2.0.0",
            "model_name": "HTMLStyleModel",
            "state": {
              "description_width": "",
              "font_size": null,
              "text_color": null
            }
          },
          "660dc0386ce6481fa9dee1f7b1a15b50": {
            "model_module": "@jupyter-widgets/base",
            "model_module_version": "2.0.0",
            "model_name": "LayoutModel",
            "state": {
              "width": "190px"
            }
          },
          "6ca60d11c6e242b380d13046cb3ae8de": {
            "model_module": "@jupyter-widgets/controls",
            "model_module_version": "2.0.0",
            "model_name": "HTMLModel",
            "state": {
              "layout": "IPY_MODEL_23ba9153380348e99dad3a26ffbfc256",
              "style": "IPY_MODEL_756e29c7cbd04e34affd8d4cbdf00e46",
              "value": "<h5>Backend</h5>"
            }
          },
          "756e29c7cbd04e34affd8d4cbdf00e46": {
            "model_module": "@jupyter-widgets/controls",
            "model_module_version": "2.0.0",
            "model_name": "HTMLStyleModel",
            "state": {
              "description_width": "",
              "font_size": null,
              "text_color": null
            }
          },
          "8da53f6004344cba9c1d67e31eb1de4f": {
            "model_module": "@jupyter-widgets/controls",
            "model_module_version": "2.0.0",
            "model_name": "HTMLModel",
            "state": {
              "layout": "IPY_MODEL_660dc0386ce6481fa9dee1f7b1a15b50",
              "style": "IPY_MODEL_c7decbaadc774eb6b5e304d8db7e48f4",
              "value": "<h5>Job ID</h5>"
            }
          },
          "9034af0165c243f4809b2cbe440ab650": {
            "model_module": "@jupyter-widgets/controls",
            "model_module_version": "2.0.0",
            "model_name": "HTMLModel",
            "state": {
              "layout": "IPY_MODEL_2ce68717f7e141b199bb8a51287fef0a",
              "style": "IPY_MODEL_05e841e27c14401b87590ab0450bc349",
              "value": "<p style='font-family: IBM Plex Sans, Arial, Helvetica, sans-serif; font-size: 20px; font-weight: medium;'>Circuit Properties</p>"
            }
          },
          "a62b90729b074c64bcd634023ad72daf": {
            "model_module": "@jupyter-widgets/controls",
            "model_module_version": "2.0.0",
            "model_name": "HTMLStyleModel",
            "state": {
              "description_width": "",
              "font_size": null,
              "text_color": null
            }
          },
          "aa7febcb92b045e4871da77525ab9977": {
            "model_module": "@jupyter-widgets/controls",
            "model_module_version": "2.0.0",
            "model_name": "ButtonModel",
            "state": {
              "button_style": "primary",
              "description": "Clear",
              "layout": "IPY_MODEL_2cb74ebc28f54ada93290a2a4a8265ee",
              "style": "IPY_MODEL_bfc9f6feda564b39bdc4b854e765cd96",
              "tooltip": null
            }
          },
          "ad7751629654477299134282686c3089": {
            "model_module": "@jupyter-widgets/controls",
            "model_module_version": "2.0.0",
            "model_name": "GridBoxModel",
            "state": {
              "children": [
                "IPY_MODEL_aa7febcb92b045e4871da77525ab9977"
              ],
              "layout": "IPY_MODEL_cd3417b6c5de4aba80fef31ebb5ab2c9"
            }
          },
          "bfc9f6feda564b39bdc4b854e765cd96": {
            "model_module": "@jupyter-widgets/controls",
            "model_module_version": "2.0.0",
            "model_name": "ButtonStyleModel",
            "state": {
              "font_family": null,
              "font_size": null,
              "font_style": null,
              "font_variant": null,
              "font_weight": null,
              "text_color": null,
              "text_decoration": null
            }
          },
          "c32ddb7d46c34d6c820239f917b1f109": {
            "model_module": "@jupyter-widgets/base",
            "model_module_version": "2.0.0",
            "model_name": "LayoutModel",
            "state": {
              "width": "70px"
            }
          },
          "c7decbaadc774eb6b5e304d8db7e48f4": {
            "model_module": "@jupyter-widgets/controls",
            "model_module_version": "2.0.0",
            "model_name": "HTMLStyleModel",
            "state": {
              "description_width": "",
              "font_size": null,
              "text_color": null
            }
          },
          "cbb7390e94aa4030be970cb4e4ec3a95": {
            "model_module": "@jupyter-widgets/base",
            "model_module_version": "2.0.0",
            "model_name": "LayoutModel",
            "state": {}
          },
          "cd3417b6c5de4aba80fef31ebb5ab2c9": {
            "model_module": "@jupyter-widgets/base",
            "model_module_version": "2.0.0",
            "model_name": "LayoutModel",
            "state": {
              "grid_template_areas": "\n                                       \". . . . right \"\n                                        ",
              "grid_template_columns": "20% 20% 20% 20% 20%",
              "width": "100%"
            }
          }
        },
        "version_major": 2,
        "version_minor": 0
      }
    }
  },
  "nbformat_minor": 5,
  "nbformat": 4,
  "cells": [
    {
      "id": "56dacc6e-4b36-4a47-8a93-243293a94a10",
      "cell_type": "code",
      "source": "from qiskit import QuantumCircuit, Aer, execute\nfrom qiskit.visualization import plot_histogram\nimport numpy as np\nimport matplotlib.pyplot as plt\n\n# Function to run the Bell test experiment\ndef run_bell_test_experiment(angle_a, angle_b):\n    qc = QuantumCircuit(2, 2)\n    qc.h(0)\n    qc.cx(0, 1)\n    qc.ry(2 * angle_a, 0)\n    qc.ry(2 * angle_b, 1)\n    qc.measure(0, 0)\n    qc.measure(1, 1)\n    backend = Aer.get_backend('qasm_simulator')\n    job = execute(qc, backend, shots=1024)\n    result = job.result()\n    counts = result.get_counts(qc)\n    return counts\n\n# Function to calculate N(ϕ)\ndef calculate_N(counts):\n    coincidences = counts.get('00', 0) + counts.get('11', 0)\n    anti_coincidences = counts.get('01', 0) + counts.get('10', 0)\n    return coincidences - anti_coincidences\n\n# Fixed angle_b\nangle_b = np.deg2rad(67.5)\n\n# Lists to hold results and plotting data\nviolation_angles = []\nsatisfaction_angles = []\ntheta_values = []\ndelta_values = []\n\n# Run experiment and check Freedman’s inequality over a range of angles\nfor degree in np.arange(0, 90.25, 0.25):\n    angle_a = np.deg2rad(degree)\n\n    counts_a = run_bell_test_experiment(angle_a, angle_b)\n    counts_b = run_bell_test_experiment(angle_b, angle_a)\n\n    N_a = calculate_N(counts_a)\n    N_b = calculate_N(counts_b)\n\n    delta = abs(N_a - N_b) / N_b - 0.25\n    # print(delta,degree)\n\n    theta_values.append(degree)\n    delta_values.append(delta)\n\n    if delta <= 0:\n        satisfaction_angles.append(degree)\n    else:\n        violation_angles.append(degree)\n\n# Print angle lists\nprint(f\"Angles where Freedman's inequality is satisfied: {satisfaction_angles}\")\nprint(f\"Angles where Freedman's inequality is violated: {violation_angles}\")\n\nmin_delta = np.min(delta_values)\nmax_delta = np.max(delta_values)\nrescaled_delta_values = [((delta - min_delta) / (max_delta - min_delta)) for delta in delta_values]\nprint(rescaled_delta_values,degree)\n\n# max_abs_delta = max(abs(delta) for delta in delta_values)\n# delta_values_1 = [delta / max_abs_delta for delta in delta_values]\n# Plot the graph\nplt.plot(theta_values,rescaled_delta_values, label='Delta vs Theta')\nplt.xlabel('Theta (degrees)')\nplt.ylabel('Delta')\nplt.title('Graph of Delta vs Theta')\nplt.legend()\nplt.grid(True)\nplt.show()",
      "metadata": {
        "tags": []
      },
      "outputs": [
        {
          "name": "stdout",
          "output_type": "stream",
          "text": [
            "Angles where Freedman's inequality is satisfied: [0.0, 0.25, 0.5, 0.75, 1.0, 1.25, 1.5, 1.75, 2.0, 2.25, 2.5, 2.75, 3.0, 3.25, 3.5, 3.75, 4.0, 4.25, 4.5, 4.75, 5.0, 5.25, 5.5, 5.75, 6.0, 6.25, 6.5, 6.75, 7.0, 7.25, 7.5, 7.75, 8.0, 8.25, 8.5, 8.75, 9.0, 9.25, 9.5, 9.75, 10.0, 10.25, 10.5, 10.75, 11.0, 11.25, 11.5, 11.75, 12.0, 12.25, 12.5, 12.75, 13.0, 13.25, 13.5, 13.75, 14.0, 14.25, 14.5, 14.75, 15.0, 15.25, 15.5, 15.75, 16.0, 16.25, 16.5, 16.75, 17.0, 17.25, 17.5, 17.75, 18.0, 18.25, 18.5, 18.75, 19.0, 19.25, 19.5, 19.75, 20.0, 20.25, 20.5, 20.75, 21.0, 21.25, 21.5, 22.0, 23.5, 25.5, 26.0, 26.25, 27.0, 27.25, 27.5, 27.75, 28.0, 28.5, 28.75, 29.0, 29.5, 29.75, 30.0, 30.25, 30.5, 30.75, 31.0, 31.25, 31.5, 31.75, 32.0, 32.25, 32.5, 32.75, 33.0, 33.25, 33.5, 33.75, 34.0, 34.25, 34.5, 34.75, 35.0, 35.25, 35.5, 35.75, 36.0, 36.25, 36.5, 36.75, 37.0, 37.25, 37.5, 37.75, 38.0, 38.25, 38.5, 38.75, 39.0, 39.25, 39.5, 39.75, 40.0, 40.25, 40.5, 40.75, 41.0, 41.25, 41.5, 41.75, 42.0, 42.25, 42.5, 42.75, 43.0, 43.25, 43.5, 43.75, 44.0, 44.25, 44.5, 44.75, 45.0, 45.25, 45.5, 45.75, 46.0, 46.25, 46.5, 46.75, 47.0, 47.25, 47.5, 47.75, 48.0, 48.25, 48.5, 48.75, 49.0, 49.25, 49.5, 49.75, 50.0, 50.25, 50.5, 50.75, 51.0, 51.25, 51.5, 51.75, 52.0, 52.25, 52.5, 52.75, 53.0, 53.25, 53.5, 53.75, 54.0, 54.25, 54.5, 54.75, 55.0, 55.25, 55.5, 55.75, 56.0, 56.25, 56.5, 56.75, 57.0, 57.25, 57.5, 57.75, 58.0, 58.25, 58.5, 58.75, 59.0, 59.25, 59.5, 59.75, 60.0, 60.25, 60.5, 60.75, 61.0, 61.25, 61.5, 61.75, 62.0, 62.25, 62.5, 62.75, 63.0, 63.25, 63.5, 63.75, 64.0, 64.25, 64.5, 64.75, 65.0, 65.25, 65.5, 65.75, 66.0, 66.25, 66.5, 66.75, 67.0, 67.25, 67.5, 67.75, 68.0, 68.25, 68.5, 68.75, 69.0, 69.25, 69.5, 69.75, 70.0, 70.25, 70.5, 70.75, 71.0, 71.25, 71.5, 71.75, 72.0, 72.25, 72.5, 72.75, 73.0, 73.25, 73.5, 73.75, 74.0, 74.25, 74.5, 74.75, 75.0, 75.25, 75.5, 75.75, 76.0, 76.25, 76.5, 76.75, 77.0, 77.25, 77.5, 77.75, 78.0, 78.25, 78.5, 78.75, 79.0, 79.25, 79.5, 79.75, 80.0, 80.25, 80.5, 80.75, 81.0, 81.25, 81.5, 81.75, 82.0, 82.25, 82.5, 82.75, 83.0, 83.25, 83.5, 83.75, 84.0, 84.25, 84.5, 84.75, 85.0, 85.25, 85.5, 85.75, 86.0, 86.25, 86.5, 86.75, 87.0, 87.25, 87.5, 87.75, 88.0, 88.25, 88.5, 88.75, 89.0, 89.25, 89.5, 89.75, 90.0]\n",
            "Angles where Freedman's inequality is violated: [21.75, 22.25, 22.5, 22.75, 23.0, 23.25, 23.75, 24.0, 24.25, 24.5, 24.75, 25.0, 25.25, 25.75, 26.5, 26.75, 28.25, 29.25]\n",
            "[0.21077331156906753, 0.2123076923076923, 0.2064102564102564, 0.21267847798460043, 0.21327300150829562, 0.21208507255018882, 0.20855193477671863, 0.2091305807317892, 0.2114165447498781, 0.2130440499671269, 0.21307542360173937, 0.21280694614027948, 0.2097022922710996, 0.2075822966912076, 0.21032344561756328, 0.20853583598681635, 0.21232568600989654, 0.20774787647852663, 0.21041921041921044, 0.2117824505367758, 0.2094017094017094, 0.21297749869178442, 0.21069236505478114, 0.21250838656982002, 0.2089103308615504, 0.2134283686630257, 0.2081097197376267, 0.20531267293857222, 0.21342007909172087, 0.20777224374346678, 0.2102846648301194, 0.20990873533246415, 0.20668220668220666, 0.21162099702872236, 0.2103799814643188, 0.20813868992006646, 0.21030693444486548, 0.210390773709551, 0.21335115647911856, 0.20440388236998405, 0.20931791520026816, 0.20409595771914613, 0.21233450645215352, 0.20658961073468846, 0.19954161294943418, 0.20647773279352227, 0.20479947403024323, 0.21013241220495105, 0.20763092033810268, 0.20774665283335803, 0.21214725683999425, 0.205014245014245, 0.20603068429155386, 0.19531922216485975, 0.1908831908831909, 0.20787360787360787, 0.2063817663817664, 0.208312384782973, 0.1772079772079772, 0.19067018132438693, 0.19834954317712938, 0.21367521367521367, 0.20315581854043394, 0.19930632974111234, 0.20143949617633827, 0.2124963159445918, 0.2124963159445918, 0.19789612097304404, 0.21245421245421245, 0.20197120197120197, 0.1977520196698279, 0.19878141660319876, 0.21063627730294399, 0.2002819631685611, 0.19220830848737824, 0.10094710094710095, 0.2103799814643188, 0.13421113421113423, 0.1975867269984917, 0.18865957890348134, 0.18238447052006374, 0.21255429452150765, 0.18581829692940804, 0.1486345632687096, 0.20716320716320716, 0.17637917637917638, 0.20563097033685268, 0.4188034188034188, 0.0, 1.0, 0.3428300094966762, 0.6239316239316239, 0.27136752136752135, 0.32938856015779094, 0.2288698955365622, 0.23646723646723647, 0.2538964303670186, 0.3324336482231219, 0.2376992376992377, 0.2631889183613321, 0.27416173570019725, 0.24444444444444446, 0.22491511532607422, 0.25443786982248523, 0.2287712287712288, 0.2262108262108262, 0.24496595683036362, 0.23215523215523215, 0.2244200244200244, 0.22116848144245405, 0.21574721574721575, 0.22008547008547008, 0.22596754057428214, 0.24452782989368355, 0.2237305178481649, 0.22327185485080223, 0.22625641025641027, 0.2378485711819045, 0.22360077198786876, 0.2151724998440327, 0.2205128205128205, 0.2244200244200244, 0.22137318163808228, 0.22832722832722835, 0.21367521367521367, 0.2253711201079622, 0.22409011150733005, 0.2163050624589086, 0.22396838525870782, 0.21512232623343736, 0.21847353426300797, 0.22212618841832327, 0.21982137712474792, 0.2251257514415409, 0.2148818501759678, 0.22948470925349537, 0.21834479883260371, 0.21599867230935194, 0.21431424235162555, 0.21779044001266223, 0.21396011396011397, 0.2149184149184149, 0.2266020325721818, 0.22270601515884536, 0.21921921921921922, 0.213968673196141, 0.22405372405372406, 0.2142857142857143, 0.21550671550671552, 0.21707983118771498, 0.2139433551198257, 0.22146807440925087, 0.21859435528500276, 0.21514566675856997, 0.2203525641025641, 0.21669180492709902, 0.22011643750774185, 0.2154745838956365, 0.21524450049040214, 0.21857512736991563, 0.21413257868107366, 0.21392205868740166, 0.2199101135271348, 0.21837606837606838, 0.21367521367521367, 0.2203312911277513, 0.21749622926093512, 0.21517562896873244, 0.21408100636587282, 0.21748502393663682, 0.2153032153032153, 0.21451936266751082, 0.21575984990619135, 0.21766032195480048, 0.21811772659230289, 0.21798916120682682, 0.21448439791635057, 0.2160330091364574, 0.21578203931145107, 0.21682800068967215, 0.21367521367521367, 0.2184904297580354, 0.21809846338148225, 0.21955128205128205, 0.21567027137318914, 0.215644158052535, 0.21403133903133903, 0.21760917925301487, 0.21367521367521367, 0.2150960150960151, 0.21902493051637306, 0.21526125649836989, 0.21402949382223993, 0.21483694299228281, 0.21437830949399073, 0.2172649572649573, 0.2184190078926921, 0.21574199659841978, 0.21516164994425865, 0.21401539311987075, 0.21531492754514336, 0.21767849636702094, 0.21704349290556188, 0.21415448518252259, 0.21515450361604208, 0.2142898300201671, 0.21415673528349585, 0.21554426338025426, 0.21588598724857383, 0.21590660052198513, 0.2166676017879519, 0.21474121028686732, 0.21550671550671552, 0.21442659904198366, 0.21531029357116313, 0.21455370705906038, 0.2147112147112147, 0.2145748987854251, 0.21426849843335743, 0.214408862477532, 0.21513002364066194, 0.21396741909562422, 0.2139655579146025, 0.21410615528262586, 0.214251012145749, 0.21396617566830334, 0.21367521367521367, 0.21509380430542255, 0.21381766381766382, 0.21396011396011397, 0.21437578814627994, 0.21480773654686697, 0.21467653685226906, 0.21395893180125544, 0.2138141894239455, 0.21466005416622702, 0.21409045295684972, 0.21423111667014108, 0.21560908227574896, 0.21479843451096017, 0.21522921522921523, 0.21493110064538637, 0.21381306865177832, 0.21517051536932252, 0.2140854700854701, 0.21533617080175785, 0.21394926605347447, 0.2140822140822141, 0.21367521367521367, 0.2139465472798806, 0.21421788088454755, 0.2147498866555841, 0.21408140814081408, 0.21381007771540314, 0.21381034424512688, 0.21380981223500908, 0.21381007771540314, 0.2146230007616146, 0.2140758547008547, 0.21380954779775999, 0.2138090220282001, 0.2138092843975197, 0.2139433551198257, 0.2138090220282001, 0.2138090220282001, 0.21367521367521367, 0.21367521367521367, 0.21367521367521367, 0.21367521367521367, 0.21367521367521367, 0.21367521367521367, 0.21380876068376067, 0.21367521367521367, 0.21367521367521367, 0.21367521367521367, 0.2138090220282001, 0.21367521367521367, 0.21394388192030628, 0.2138090220282001, 0.2140782160428526, 0.21380876068376067, 0.2139433551198257, 0.21394494175559264, 0.21367521367521367, 0.21421895974579871, 0.21462866482786802, 0.21367521367521367, 0.2138106118304138, 0.21367521367521367, 0.21381007771540314, 0.21381088047754715, 0.21464019851116625, 0.2143576095671904, 0.21394817203200436, 0.21448921448921449, 0.21394762829025776, 0.21422004290530186, 0.21408961408961408, 0.21462676929873747, 0.21367521367521367, 0.21479384056071174, 0.2138133471466805, 0.2138141894239455, 0.21395203986297104, 0.2162339854647547, 0.21424147511104033, 0.21381619525949422, 0.21367521367521367, 0.21465201465201464, 0.21396250808015513, 0.21395659667264605, 0.21396311291048134, 0.21367521367521367, 0.21550044753330175, 0.21410345627464625, 0.2139655579146025, 0.21382038579490809, 0.21484403535685587, 0.21396679605634827, 0.21575171032871682, 0.213971213971214, 0.21454809965448263, 0.21458085696496293, 0.21367521367521367, 0.2154745838956365, 0.21412114455592718, 0.21602793860858377, 0.21619667389732466, 0.21576988535413044, 0.21382749890544991, 0.2161172161172161, 0.2141446146022805, 0.21414354291066617, 0.21446660335549222, 0.21632907934277798, 0.21398183281591354, 0.21415560759823055, 0.21465434591926238, 0.21415900661183682, 0.21543665805960888, 0.21562417524412775, 0.21367521367521367, 0.21468569744431812, 0.21416477979723803, 0.21849770716269457, 0.21384077316280706, 0.21664050235478807, 0.21453637322654956, 0.22077084341235284, 0.21438012159661643, 0.21419849991278564, 0.21385281385281385, 0.2150814053127678, 0.21456091404277933, 0.21693985354462808, 0.21367521367521367, 0.2144124219595918, 0.2138620335341647, 0.21868303840134826, 0.21501217590603067, 0.21622217324223056] 90.0\n"
          ]
        },
        {
          "data": {
            "image/png": "[encoded data removed]",
            "text/plain": [
              "<Figure size 640x480 with 1 Axes>"
            ]
          },
          "metadata": {},
          "output_type": "display_data"
        }
      ],
      "execution_count": 45
    },
    {
      "id": "a480a41c-0909-4651-bb0d-f9a6d34aca40",
      "cell_type": "code",
      "source": "",
      "metadata": {},
      "outputs": [],
      "execution_count": null
    }
  ]
}